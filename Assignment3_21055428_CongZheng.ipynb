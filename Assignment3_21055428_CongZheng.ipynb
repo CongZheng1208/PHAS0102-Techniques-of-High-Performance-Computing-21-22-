{
  "nbformat": 4,
  "nbformat_minor": 0,
  "metadata": {
    "colab": {
      "name": "REAL_Assignment3_21055428_CongZheng.ipynb",
      "provenance": [],
      "collapsed_sections": []
    },
    "kernelspec": {
      "name": "python3",
      "display_name": "Python 3"
    },
    "language_info": {
      "name": "python"
    },
    "accelerator": "GPU"
  },
  "cells": [
    {
      "cell_type": "markdown",
      "metadata": {
        "id": "1YnJJkn6jTnX"
      },
      "source": [
        "# **Assignment 3**\n",
        "\n",
        "#### **MSc** Scientific and Data Intensive Computing,\n",
        "#### University College London, 2021-2022\n",
        "\n",
        "#### Techniques of High Performance Computing (PHAS0102)\n",
        "\n",
        "###**Cong Zheng** \n",
        "### **Student ID: 21055428**"
      ]
    },
    {
      "cell_type": "markdown",
      "metadata": {
        "id": "AKjcvoDilYmH"
      },
      "source": [
        "## Table of Contents\n",
        "#### 1. Introduction\n",
        "#### 2. Task1: Exploring the Ellpack-R format in GPUs\n",
        "###### 2.1 Overview of the various formats\n",
        "###### 2.2 Summary of the difficulties of the CSR format\n",
        "###### 2.3 How Ellpack and Ellpack-R address these difficulties\n",
        "###### 2.4 Advances in GPU-based matvec technology\n",
        "#### 3. Task2: CUDA-based matvec computation in Ellpack-R format\n",
        "###### 3.1 Conversion from CSR format to Ellpack-R format\n",
        "###### 3.2 CUDA-based matvec computation in Ellpack-R format\n",
        "###### 3.3 Verification using random sparse matrices\n",
        "###### 3.4 Verification using discretise_poisson matrices\n",
        "###### 3.5 Validation using matrices purchased from the matrix market\n",
        "\n",
        "#### 4. Conclusion\n",
        "#### 5. Reference"
      ]
    },
    {
      "cell_type": "markdown",
      "metadata": {
        "id": "hAElkdFLlY1r"
      },
      "source": [
        "## 1. Introduction\n",
        "\n",
        "Sparse matrix vector multiplication (SpMV) is not negligible in the field of scientific computing, such as iterative methods for solving linear systems and eigenvalue problems. The performance of SpMV is largely determined by the format of the sparse matrix, which is a standard format widely used on CPUs. However, it has some serious drawbacks on the GPU and also on modern vector extensions to the CPU (AVX etc.). The Ellpack-R format, on the other hand, improves on the shortcomings of CSR on the GPU and offers higher performance on these devices.\n",
        "\n",
        "In this solution, we explore the performance of the GPU-based Ellpack-R format for sparse matrix multiplication. First, in Chapter 2 we summarise the shortcomings of the CSR format based on the literature of Vazquez et. al and explain the advantages of the Ellpack and Ellpack-R counterparts, and further describe the subsequent directions of development. Afterwards, in Chapter 3, we first build a new class of EllpackMatrix based on Ellpack-R for implementing matrix vector multiplication and perform a benchmark comparison using random sparse matrices, discrete Poisson matrices and other matrices.\n",
        "\n"
      ]
    },
    {
      "cell_type": "markdown",
      "metadata": {
        "id": "xHdOLAQRlZJK"
      },
      "source": [
        "## 2. Task1: Exploration of the Ellpack-R format in GPU-based"
      ]
    },
    {
      "cell_type": "markdown",
      "metadata": {
        "id": "F7xrZcjKxoRM"
      },
      "source": [
        "Sparse matrices have found specific applications in many engineering fields. In real production environments, the most efficient storage solution is to store only the non-zero elements of the matrix in order to save memory. And the main bottleneck for iterative solution of specific engineering systems is the sparse matrix-vector multiplication method, which is used repeatedly until the iterative process reaches convergence. The advent of the GPU has made it possible to break the performance limit of SpMV computation. Therefore, it is important to design a sparse matrix storage format that can be efficiently utilised in GPUs."
      ]
    },
    {
      "cell_type": "markdown",
      "metadata": {
        "id": "TCaU7V8pnbA1"
      },
      "source": [
        "### 2.1 Overview of the various formats\n"
      ]
    },
    {
      "cell_type": "markdown",
      "metadata": {
        "id": "1luN1JNhwvLR"
      },
      "source": [
        "With the development of modern scientific computing, a number of mainstream sparse matrix storage formats already exist.\n",
        "\n",
        "* The Coordinate (COO) storage format is the most straightforward and simplest solution. When matrices are stored out of order, SpMV calculations based on the COO format are not suitable for GPU architectures. In this case, multiple threads will access data and write vectors in a discontinuous manner. On the other hand, this format will take up more memory than the CSR format.\n",
        "* Compressed sparse row (CSR) format is the most common format for storing sparse matrices in the CPU. However, it has poor performance due to the fact that in the GPU so all threads access the data in a discontinuous manner.\n",
        "* The Ellpack format can be thought of as a way to fit sparse matrices into a regular data structure similar to a dense matrix. When the number of non-zeros in each row is almost equal, the number of zeros to be filled is reduced, which leads to high performance in achieving SpMV on the GPU. However, when the number of non-zeros in each row differs by a large amount, more zeros need to be filled, which leads to a reduction in computational performance.\n",
        "* The ELLPACK-R format makes a number of changes and optimisations to the Ellpack format. For example, it has better cohesion for global memory accesses and reduces the waiting time for a warp.\n",
        "* BiELL format\n",
        "The BiELL format is a double-cut ELL format. Based on the ELL format, it balances the workload of different threads in a warp and therefore reduces the wait time.\n",
        "\n",
        "* The Jagged Diagonal (JAD) format stores non-zeros on a jagged diagonal. JAD reduces the number of zeros that need to be filled, which leads to better performance than the Ellpack format.\n",
        "* The Bi-Cut JAD (BiJAD) format is a bi-cut of JAD, which is an optimised and improved version of JAD for the GPU."
      ]
    },
    {
      "cell_type": "markdown",
      "metadata": {
        "id": "NEYJ-YVQnbLK"
      },
      "source": [
        "### 2.2 Summary of the difficulties of CSR format\n"
      ]
    },
    {
      "cell_type": "markdown",
      "metadata": {
        "id": "0yhMQATzwv-9"
      },
      "source": [
        "Compressed Row Storage (CRS) is the most widely used format for storing sparse matrices on the CPU.\n",
        "Specifically, let N and Nz be the number of rows of the matrix and the total number of non-zero entries of the matrix, respectively. The data structure of the matrix consists of the following arrays.\n",
        "* A[ ] array. A floating-point array of dimension Nz to store the data.\n",
        "* J[ ] array of integers of dimension Nz. An integer array of dimension Nz used to store the indexes of its columns.\n",
        "* Indptr[ ] An array of integers of dimension N+1. Pointer to the beginning of each row in A[] and J[], both of which are sorted by row index.\n",
        "\n",
        "The CRS-based code for computing SpMV has several drawbacks that hinder optimizing the performance of this code on the GPU.\n",
        "* First, the local accessibility of vector v[] is not maintained due to indirect addressing. This results in the data manipulated by neighbouring threads not being contiguous in the memory address, which makes for poor computational performance.\n",
        "* Secondly, the fine-grained parallelism is not exploited because the number of iterations of the inner loop is small and variable.\n"
      ]
    },
    {
      "cell_type": "markdown",
      "metadata": {
        "id": "6rk6pJQ7nbU3"
      },
      "source": [
        "### 2.3 How Ellpack and Ellpack-R solve these difficulties\n"
      ]
    },
    {
      "cell_type": "markdown",
      "metadata": {
        "id": "NGAeRtBLwwxr"
      },
      "source": [
        "The Ellpack format was introduced as a format for compressing sparse matrices in order to solve large sparse linear systems on vector computers with the ITPACKV subroutine. This format stores sparse matrices in two arrays. One is a floating-point array A[ ], which holds the data, and the other is an integer array J[ ], which holds the column indices of each entry. Where both arrays are stored in column-first form.\n",
        "\n",
        "In the Ellpack-R format, an additional array, rl[ ], is introduced to store the number of non-zeros in each matrix row.\n",
        "\n",
        "In GPU architectures, SpMV based on Ellpack-R has superior computational performance compared to the CSR format for the following reasons.\n",
        "* No synchronous execution. Each thread is mapped to a row that computes an element of the output vector y. The thread mapping used in this implementation allows synchronous-free execution, with no data dependencies between threads or even between blocks. This allows for better computational performance without threads having to wait for each other.\n",
        "* Coalescing of global memory accesses. In the Ellpack-R format, the thread represented by index i accesses the element in row i of the original array. Due to the column-major ordering of the matrix elements stored into the data structure, the two threads i and i+1 access consecutive memory addresses, thus satisfying the coalescence condition for global memory accesses. Enables SpMV operations in the Ellpack-R format to have superior computational performance to the CSR format where memory accesses are not contiguous.\n",
        "* Divergence-free execution. Threads execute the same instructions. For example, because the length of each line is known, inner loops that perform multiplication and addition operations do not need to include conditional branches to check for padding elements. Therefore, there are no data dependencies or control flows causing threads to diverge between the same or different warps."
      ]
    },
    {
      "cell_type": "markdown",
      "metadata": {
        "id": "uHoRxdSWnbcn"
      },
      "source": [
        "### 2.4 Advances in GPU-based matvec technology\n",
        "\n",
        "Over the past few years, as GPUs have become a popular platform for scientific computing, SpMV operations can now be extended to GPUs to take advantage of the massive parallelism offered by their multi-core architecture. As a result, much work has been done to optimise SpMV operations for GPUs.\n",
        "\n",
        "\n",
        "Researchers have proposed different optimisation strategies and data formats to improve SpMV performance for different kinds of matrix structures and different hardware architectures.\n",
        "\n",
        "A. Monakov's research team [1] proposed a new format, Sliced-ELLPACK, based on the Ellpack-R format, to improve the performance of SpMV operations on GPUs. In [2], the Jagged Diagonal (JAD) format was used to implement the SpMV kernel for better performance. The BiELL format in [3] uses a sectioning technique to improve the performance of the ELL format. In addition, more different kinds of storage formats have been proposed [4] [5].\n",
        "\n",
        "\n",
        "In addition, the performance improvement of SpMV can be achieved with high precision by other linear algebra kernels.Isupov, Konstantin et al. implemented SpMV based on GPU architecture and Ellpack-R format using three multi-precision libraries, namely CUMP, CAMPARY and MPRES-BLAS [6].Hishinuma T et al. and Nakata M's research team [7][8] used double computation to improve the quadruple accuracy of SpMV. In this approach, two double-precision variables are used to represent a four-precision variable.\n",
        "\n"
      ]
    },
    {
      "cell_type": "markdown",
      "metadata": {
        "id": "8fPP9TuGlAio"
      },
      "source": [
        "## 3. Task 2: CUDA-based matvec computation in Ellpack-R format\n",
        "\n"
      ]
    },
    {
      "cell_type": "markdown",
      "metadata": {
        "id": "DEviJ77RrJ7K"
      },
      "source": [
        "To practically investigate the performance improvement of the Ellpack-R format for matrix vector multiplication, we further compare the performance difference between matrix vector multiplication in CSR format and Ellpack-R format in Chapter 3. Specifically, we implement a new class of EllpackMatrix for matrix vector multiplication using the Ellpack-R format and perform a comparative timing analysis using a 1000*1000 random sparse matrix, a discretise_poisson sparse matrix and several matrices from the matrix market respectively."
      ]
    },
    {
      "cell_type": "markdown",
      "metadata": {
        "id": "HEkmtDQXn2UV"
      },
      "source": [
        "### 3.1 Conversion from CSR format to Ellpack-R format"
      ]
    },
    {
      "cell_type": "markdown",
      "metadata": {
        "id": "gCPeQZ9MrYAU"
      },
      "source": [
        "To further explore the superiority of the Ellpack-R format, we wrote a CPU-based Numba program that converts matrices stored in CSR format to Ellpack-R format.\n",
        "\n",
        "First, we introduced the required libraries and packages."
      ]
    },
    {
      "cell_type": "code",
      "metadata": {
        "id": "Q2LJb8KoloWi"
      },
      "source": [
        "import numpy \n",
        "\n",
        "from numba import cuda\n",
        "from numba import prange \n",
        "from numba import jit\n",
        "\n",
        "from scipy.io import mmread\n",
        "from scipy.sparse import csr_matrix\n",
        "from scipy.sparse import coo_matrix\n",
        "from scipy.sparse.linalg import LinearOperator\n",
        "\n",
        "from matplotlib import pyplot as plt\n",
        "\n",
        "%matplotlib inline"
      ],
      "execution_count": null,
      "outputs": []
    },
    {
      "cell_type": "markdown",
      "metadata": {
        "id": "I7bWNEP6samC"
      },
      "source": [
        "To implement the conversion of matrices from CSR format to Ellpack-R format, we designed the toEllpackR function, which uses the jit compilation speedup in numba.\n",
        "\n",
        "Following the Ellpack-R format described in the paper [], we store the matrix A, matrix J in a one-dimensional array in column-first form. We end up with an array A that stores the data in the matrix in CSR format, an array J that stores the column indices, and an array rl that stores the number of non-zero items per row."
      ]
    },
    {
      "cell_type": "code",
      "metadata": {
        "id": "UtnAd2kjlqMk"
      },
      "source": [
        "@jit(parallel=True)\n",
        "def toEllpackR(A_csr):\n",
        "\n",
        "    N = len(A_csr.indptr) -1\n",
        "\n",
        "    A = numpy.zeros(shape = [N, N])\n",
        "    J = numpy.zeros(shape = [N, N])\n",
        "    rl = numpy.zeros(shape = N)  \n",
        "\n",
        "    for i in prange(N):\n",
        "        X = A_csr.indptr[i+1] - A_csr.indptr[i]\n",
        "        rl[i] = int(X)\n",
        "        for j in range(X):\n",
        "            A[i,j] = float(A_csr.data[j + A_csr.indptr[i]])\n",
        "            J[i,j] = int(A_csr.indices[j + A_csr.indptr[i]])\n",
        "\n",
        "    A = A.reshape((1, -1),order = 'F')\n",
        "    J = J.reshape((1, -1),order = 'F')\n",
        "\n",
        "    A = A[0]\n",
        "    J = J[0]\n",
        "      \n",
        "    return A, J, rl       "
      ],
      "execution_count": null,
      "outputs": []
    },
    {
      "cell_type": "markdown",
      "metadata": {
        "id": "DVglSx6HoBY8"
      },
      "source": [
        "### 3.2 CUDA-based matvec calculation in Ellpack-R format"
      ]
    },
    {
      "cell_type": "markdown",
      "metadata": {
        "id": "QMQYMH48eC7p"
      },
      "source": [
        "To verify the superiority of the Ellpack-R format for matrix-vector multiplication, we have implemented a new class, EllpackMatrix, derived from scipy.sparse.linalg.LinearOperator, with the difference that while the normal matrix-vector multiplication is based on the CSR format, EllpackMatrix In EllpackMatrix, we implement matrix multiplication based on the Ellpack-R format.\n",
        "\n",
        "To verify the superiority of Ellpack-R in the GPU, we wrote DoCalc_Ellpack, a computational kernel for implementing matrix vector multiplication, based on the Numba-Cuda architecture."
      ]
    },
    {
      "cell_type": "code",
      "metadata": {
        "id": "5gkzeu5Ylssb"
      },
      "source": [
        "@cuda.jit\n",
        "def DoCalc_Ellpack(A, J, rl, vec, res):\n",
        "    \n",
        "    N = len(res)\n",
        "    idx = cuda.blockIdx.x * cuda.blockDim.x + cuda.threadIdx.x\n",
        "\n",
        "    if(idx < N):\n",
        "\n",
        "        tmp = 0.0\n",
        "        max = rl[idx]\n",
        "        \n",
        "        for j in range(max):\n",
        "\n",
        "            data_A = A[j*N + idx]\n",
        "            data_vec = vec[int(J[j*N + idx])]\n",
        "            tmp += data_A*data_vec\n",
        "      \n",
        "        res[idx][0] = tmp \n",
        "  "
      ],
      "execution_count": null,
      "outputs": []
    },
    {
      "cell_type": "markdown",
      "metadata": {
        "id": "mWuchPs0eqHT"
      },
      "source": [
        "In the CUDA calculation kernel DoCalc_Ellpack, we have set each thread to calculate a different row. In contrast, in the toEllpackR function we have specified that matrices in Ellpack-R format are stored in column-first array format, which also makes the memory accessed by neighbouring threads contiguous, which avoids the unnecessary time consumption caused by discontinuous memory accesses in traditional matrix vector multiplication."
      ]
    },
    {
      "cell_type": "code",
      "metadata": {
        "id": "ffOQ8XTdlxEV"
      },
      "source": [
        "class EllpackMatrix(LinearOperator):\n",
        "\n",
        "    def __init__(self, csr_mat):\n",
        "\n",
        "        shape = (csr_mat.shape[1], csr_mat.shape[0])\n",
        "        super().__init__(dtype=csr_mat.dtype, shape = shape)\n",
        "\n",
        "        self.A, self.J, self.rl = toEllpackR(csr_mat)\n",
        "\n",
        "    def _matvec(self, vec):\n",
        "        blockdim = 32*32\n",
        "        griddim = int(numpy.ceil(self.shape[0]/blockdim))\n",
        "\n",
        "        N= self.shape[1]\n",
        "\n",
        "        vec = vec.reshape((1, -1))[0]\n",
        "    \n",
        "        A_device = cuda.to_device(self.A)\n",
        "        J_device = cuda.to_device(self.J)\n",
        "        rl_device = cuda.to_device(self.rl)\n",
        "        vec_device = cuda.to_device(vec)\n",
        "\n",
        "        res_device = cuda.device_array((N,1), dtype = numpy.float64)\n",
        "          \n",
        "        DoCalc_Ellpack[griddim, blockdim](A_device, J_device, rl_device, vec_device, res_device)\n",
        " \n",
        "        res_host = res_device.copy_to_host()\n",
        "   \n",
        "        return res_host\n",
        "\n",
        "    "
      ],
      "execution_count": null,
      "outputs": []
    },
    {
      "cell_type": "markdown",
      "metadata": {
        "id": "rLvIvQNAeu6o"
      },
      "source": [
        "\n",
        "Next, we implement a new class EllpackMatrix derived from scipy.sparse.linalg.LinearOperator.\n",
        "\n",
        "Specifically, we take a Scipy sparse matrix in CSR format in its constructor and convert it to Ellpack-R format.\n",
        "\n",
        "In addition, we rewrite the _matvec function for implementing matrix vector products in Ellpack-R format. Firstly, we specified the dimension of the thread block to be 32*32 and specified that the dimension of the thread grid could vary with the matrix dimension to avoid unnecessary expenditure on thread switches. Afterwards, we transferred the matrices A, J, rl and the vector vec from the host side to the device and performed the matrix-vector product calculation in the Ellpack-R format in the calculation kernel DoCalc_Ellpack. Finally, the result of the calculation res is returned to the host side."
      ]
    },
    {
      "cell_type": "markdown",
      "metadata": {
        "id": "Mfcll3YToFir"
      },
      "source": [
        "### 3.3 Verification using random sparse matrices"
      ]
    },
    {
      "cell_type": "markdown",
      "metadata": {
        "id": "4DqGzd8IeuPN"
      },
      "source": [
        "To demonstrate that my solution provided the correct results, we performed accuracy verification using sparse random matrices.\n",
        "\n",
        "Specifically, we created a 1000*1000 sparse random matrix and used three different random vectors to multiply with it based on the Ellpack-R format and compared it with the standard CSR sparse matrix matvec product.\n",
        "\n",
        "Firstly, we created the sparse random matrix A_random with dimension 1000*1000 and sparsity 1%, which was set to be stored in coo format. and converted it to csr_mat in CSR format."
      ]
    },
    {
      "cell_type": "code",
      "metadata": {
        "id": "QubV0tR5lyJ2"
      },
      "source": [
        "m = 1000\n",
        "n = 1000\n",
        "density = 0.01\n",
        "matrixformat = 'coo'\n",
        "\n",
        "A_random = scipy.sparse.rand(m, n, density=density, format=matrixformat, dtype=None)\n",
        "csr_mat = csr_matrix(A_random)"
      ],
      "execution_count": null,
      "outputs": []
    },
    {
      "cell_type": "markdown",
      "metadata": {
        "id": "sGIvQGWRjllO"
      },
      "source": [
        "Afterwards, tests were carried out in order to prove that the new class we had implemented was capable of implementing the prototype commands in the job."
      ]
    },
    {
      "cell_type": "code",
      "metadata": {
        "id": "uVVJCDqq1cA7"
      },
      "source": [
        "my_sparse_mat = EllpackMatrix(csr_mat)\n",
        "x = numpy.random.randn(my_sparse_mat.shape[1])\n",
        "y = my_sparse_mat @ x"
      ],
      "execution_count": null,
      "outputs": []
    },
    {
      "cell_type": "markdown",
      "metadata": {
        "id": "J-N0PEE5j4lj"
      },
      "source": [
        "Afterwards, we created three different random vectors x, x_1 and x_2, all of dimension 1000, and performed matrix vector multiplication based on CSR format and Ellpack-R format respectively.\n",
        "\n",
        "To verify the correctness of this solution, we calculated the relative distances of the three sets of Ellpack-R matvec and CSR matvec results, respectively."
      ]
    },
    {
      "cell_type": "code",
      "metadata": {
        "id": "bJSASPTj_Qrt"
      },
      "source": [
        "def get_rel_distance(csr_mat, x):\n",
        "    y_csr = csr_mat @ x\n",
        "    y_ellpackr = my_sparse_mat @ x\n",
        "    rel_error = numpy.linalg.norm(y_ellpackr - y_csr, numpy.inf) / numpy.linalg.norm(y_csr, numpy.inf)\n",
        "    return rel_error"
      ],
      "execution_count": null,
      "outputs": []
    },
    {
      "cell_type": "code",
      "metadata": {
        "colab": {
          "base_uri": "https://localhost:8080/"
        },
        "id": "UNKBbh-8jOBP",
        "outputId": "c08d25d2-adea-4ba0-e879-0a5d94a98c85"
      },
      "source": [
        "print(get_rel_distance(csr_mat, x))\n",
        "\n",
        "x_1 = numpy.random.randn(my_sparse_mat.shape[1])\n",
        "print(get_rel_distance(csr_mat, x_1))\n",
        "\n",
        "x_2 = numpy.random.randn(my_sparse_mat.shape[1])\n",
        "print(get_rel_distance(csr_mat, x_2))\n"
      ],
      "execution_count": null,
      "outputs": [
        {
          "output_type": "stream",
          "name": "stdout",
          "text": [
            "2.0798216370792914e-16\n",
            "1.383722422803408e-16\n",
            "1.9127382819345173e-16\n"
          ]
        }
      ]
    },
    {
      "cell_type": "markdown",
      "metadata": {
        "id": "NJfghJwVkN96"
      },
      "source": [
        "The relative distances of the matrix multiplication of the three sets of random vectors can be observed to be 2.0798216370792914e-16, 1.383722422803408e-16, and 1.9127382819345173e-16 respectively, all reaching the 1e-16 level. It is demonstrated that the solution can effectively implement matrix vector multiplication based on the Ellpack-R format."
      ]
    },
    {
      "cell_type": "markdown",
      "metadata": {
        "id": "DChN6zBhoI66"
      },
      "source": [
        "### 3.4 Validation using the discretise_poisson matrix\n"
      ]
    },
    {
      "cell_type": "markdown",
      "metadata": {
        "id": "4wVSVMF4k8fI"
      },
      "source": [
        "To further verify the accuracy of this solution, we also used a discrete Poisson sparse matrix for verification.\n",
        "\n",
        "The discretise_poisson function used to generate the discrete sparse matrix is shown below and is used to return a matrix of dimension [N*N, N*N] and a vector f of dimension [N*N,1] stored in CSR format."
      ]
    },
    {
      "cell_type": "code",
      "metadata": {
        "id": "vkeFCqQOvOKl"
      },
      "source": [
        "def discretise_poisson(N):\n",
        "    \"\"\"Generate the matrix and rhs associated with the discrete Poisson operator.\"\"\"\n",
        "    nelements = 5 * N**2 - 16 * N + 16\n",
        "    row_ind = numpy.empty(nelements, dtype=numpy.float64)\n",
        "    col_ind = numpy.empty(nelements, dtype=numpy.float64)\n",
        "    data = numpy.empty(nelements, dtype=numpy.float64)\n",
        "    f = numpy.empty(N * N, dtype=numpy.float64)\n",
        "    count = 0\n",
        "    for j in range(N):\n",
        "        for i in range(N):\n",
        "            if i == 0 or i == N - 1 or j == 0 or j == N - 1:\n",
        "                row_ind[count] = col_ind[count] = j * N + i\n",
        "                data[count] =  1\n",
        "                f[j * N + i] = 0\n",
        "                count += 1\n",
        "            else:\n",
        "                row_ind[count : count + 5] = j * N + i\n",
        "                col_ind[count] = j * N + i\n",
        "                col_ind[count + 1] = j * N + i + 1\n",
        "                col_ind[count + 2] = j * N + i - 1\n",
        "                col_ind[count + 3] = (j + 1) * N + i\n",
        "                col_ind[count + 4] = (j - 1) * N + i                 \n",
        "                data[count] = 4 * (N - 1)**2\n",
        "                data[count + 1 : count + 5] = - (N - 1)**2\n",
        "                f[j * N + i] = 1\n",
        "                count += 5                                  \n",
        "    return coo_matrix((data, (row_ind, col_ind)), shape=(N**2, N**2)).tocsr(), f"
      ],
      "execution_count": null,
      "outputs": []
    },
    {
      "cell_type": "markdown",
      "metadata": {
        "id": "Wt6KJOSAlqQ0"
      },
      "source": [
        "Afterwards, in order to explore the performance differences in terms of computation time of the Ellpack-R format, we conducted a benchmarking comparison analysis.\n",
        "\n",
        "Specifically, we selected matrix dimensions of 100, 900, 2500, 4900 and 8100, respectively, and used matvec in csr format and our own Ellpack-R implementation to plot the time variation trend of matvec in different matrix dimensions, respectively."
      ]
    },
    {
      "cell_type": "code",
      "metadata": {
        "id": "mT6fQb-NvRD3"
      },
      "source": [
        "timeit_result1 = numpy.zeros(5, dtype=numpy.float64)\n",
        "timeit_result2 = numpy.zeros(5, dtype=numpy.float64)\n",
        "\n",
        "for loop in range(10,100,20):\n",
        "    x = numpy.random.randn(loop*loop, 1)\n",
        "    A_poisson_CSR,_ = discretise_poisson(loop)\n",
        "    A_poisson_EllpackR = EllpackMatrix(A_poisson_CSR)\n",
        "    timeit_result_1 = %timeit -o A_poisson_CSR@x\n",
        "    timeit_result1[int(loop//20)] = timeit_result_1.best\n",
        "    timeit_result_2 = %timeit -o A_poisson_EllpackR@x\n",
        "    timeit_result2[int(loop//20)] = timeit_result_2.best\n"
      ],
      "execution_count": null,
      "outputs": []
    },
    {
      "cell_type": "code",
      "metadata": {
        "colab": {
          "base_uri": "https://localhost:8080/",
          "height": 295
        },
        "id": "N1oT-oVIvVC_",
        "outputId": "21c2f496-9870-476a-9b87-14c6a9c9d6d1"
      },
      "source": [
        "x_fit = [100, 900, 2500, 4900, 8100]\n",
        "plt.figure(figsize=(10,4))\n",
        "plt.plot(x_fit,timeit_result1, ':',label = 'CSR',color='skyblue', marker = 'o')\n",
        "plt.plot(x_fit,timeit_result2, ':',label = 'EllpackR',color='indigo', marker = '*')\n",
        "plt.xlabel('Matrix Dimension N')\n",
        "plt.ylabel('Time Consuming')\n",
        "plt.title('Fig.1. Comparison of matvec time consumption trends based on CSR and Ellpack-R')\n",
        "plt.legend()\n",
        "plt.show()"
      ],
      "execution_count": null,
      "outputs": [
        {
          "output_type": "display_data",
          "data": {
            "image/png": "[encoded data removed]",
            "text/plain": [
              "<Figure size 720x288 with 1 Axes>"
            ]
          },
          "metadata": {
            "needs_background": "light"
          }
        }
      ]
    },
    {
      "cell_type": "markdown",
      "metadata": {
        "id": "vwfNxDUYms4c"
      },
      "source": [
        "Looking at Figure 1, we can see that matvec based on the CSR format has better performance than matvec based on the Ellpack-R format.\n",
        "\n",
        "Specifically, when the matrix and vector dimensions are [2500, 2500]*[2500, 1], respectively, matvec in CSR format takes only 27.7 µs, much less than the 20.3 ms of matvec in Ellpack-R format. time is almost 1000 times that of CSR, and this gap is gradually widening further as the matrix dimension N increases.\n",
        "\n",
        "This is probably because the multiplication of sparse matrices and vectors comes from a very simple 2D problem with few elements per row, resulting in very limited optimisation in the Ellpack-R format."
      ]
    },
    {
      "cell_type": "markdown",
      "metadata": {
        "id": "MCMbi2l3oNFY"
      },
      "source": [
        "### 3.5 Validation of matrices purchased using the matrix market"
      ]
    },
    {
      "cell_type": "markdown",
      "metadata": {
        "id": "GTOLPyOxohKX"
      },
      "source": [
        "To further validate the practical effectiveness of matrix vector multiplication based on the Ellpack-R format, four different matrices were selected in the matrix market. and performed a comparative analysis of the benchmark tests conducted in 3.4.\n",
        "\n",
        "Specifically, we selected four different matrices, namely mcca, mcfe, gre__115 and gre__185."
      ]
    },
    {
      "cell_type": "code",
      "metadata": {
        "id": "jDQH3VC9vo_F"
      },
      "source": [
        "Mat_mcca = scipy.io.mmread('mcca.mtx')\n",
        "Mat_mcfe = scipy.io.mmread('mcfe.mtx')\n",
        "Mat_gre__115 = scipy.io.mmread('gre__115.mtx')\n",
        "Mat_gre__185 = scipy.io.mmread('gre__185.mtx')\n",
        "\n",
        "Mat_mcca_CSR = Mat_mcca.tocsr(Mat_mcca)\n",
        "Mat_mcfe_CSR = Mat_mcfe.tocsr(Mat_mcfe)\n",
        "Mat_gre__115_CSR = Mat_gre__115.tocsr(Mat_gre__115)\n",
        "Mat_gre__185_CSR = Mat_gre__185.tocsr(Mat_gre__185)\n",
        "\n",
        "Mat_mcca_EllpackR = EllpackMatrix(Mat_mcca_CSR)\n",
        "Mat_mcfe_EllpackR = EllpackMatrix(Mat_mcfe_CSR)\n",
        "Mat_gre__115_EllpackR = EllpackMatrix(Mat_gre__115_CSR)\n",
        "Mat_gre__185_EllpackR = EllpackMatrix(Mat_gre__185_CSR)\n",
        "\n",
        "x_mcca = numpy.random.randn(Mat_mcca.shape[1])\n",
        "x_mcfe = numpy.random.randn(Mat_mcfe.shape[1])\n",
        "x_gre__115 = numpy.random.randn(Mat_gre__115.shape[1])\n",
        "x_gre__185 = numpy.random.randn(Mat_gre__185.shape[1])\n",
        "\n",
        "timeit_result_csr_01 = %timeit -o Mat_mcca_CSR@x_mcca\n",
        "timeit_result_csr_02 = %timeit -o Mat_mcfe_CSR@x_mcfe\n",
        "timeit_result_csr_03 = %timeit -o Mat_gre__115_CSR@x_gre__115\n",
        "timeit_result_csr_04 = %timeit -o Mat_gre__185_CSR@x_gre__185\n",
        "\n",
        "timeit_result_ellpackr_01 = %timeit -o Mat_mcca_EllpackR@x_mcca\n",
        "timeit_result_ellpackr_02 = %timeit -o Mat_mcfe_EllpackR@x_mcfe\n",
        "timeit_result_ellpackr_03 = %timeit -o Mat_gre__115_EllpackR@x_gre__115\n",
        "timeit_result_ellpackr_04 = %timeit -o Mat_gre__185_EllpackR@x_gre__185\n",
        "\n",
        "list0 = [timeit_result_csr_01.best, timeit_result_csr_02.best, timeit_result_csr_03.best, timeit_result_csr_04.best]\n",
        "list1 = [timeit_result_ellpackr_01.best, timeit_result_ellpackr_02.best, timeit_result_ellpackr_03.best, timeit_result_ellpackr_04.best]"
      ],
      "execution_count": null,
      "outputs": []
    },
    {
      "cell_type": "markdown",
      "metadata": {
        "id": "6q6vUgT3pJRG"
      },
      "source": [
        "Similar to the results obtained in 3.4, matvec in CSR format has better performance than Ellpack-R format.\n",
        "\n",
        "Specifically, for a matrix gre__185 with matrix dimension [185, 185], we used only 8.5 µs based on the CSR format, much less than the 2.4 ms required by the Ellpack-R format. It is easy to see that matrix multiplication based on the CSR format is almost 1000 times faster."
      ]
    },
    {
      "cell_type": "code",
      "metadata": {
        "colab": {
          "base_uri": "https://localhost:8080/",
          "height": 296
        },
        "id": "65-qXjYwqhTy",
        "outputId": "0857f586-0b2a-4da3-f5c4-67e130dfec7e"
      },
      "source": [
        "name_list = ['mcca','mcfe','gre__115','gre__185']\n",
        "\n",
        "x =list(range(len(list0)))\n",
        "total_width, n = 0.8, 2\n",
        "width = total_width / n\n",
        " \n",
        "plt.bar(x, list0, width=width, label='CSR',fc = 'y')\n",
        "for i in range(len(x)):\n",
        "    x[i] = x[i] + width\n",
        "plt.bar(x, list1, width=width, label='Ellpack-R',tick_label = name_list,fc = 'r')\n",
        "plt.xlabel('Matrix Name')\n",
        "plt.ylabel('Time Consuming')\n",
        "plt.title('Fig.2. Comparison of CSR and Ellpack-R based matvec time consumption trends for different matrices')\n",
        "plt.legend()\n",
        "plt.show()"
      ],
      "execution_count": null,
      "outputs": [
        {
          "output_type": "display_data",
          "data": {
            "image/png": "[encoded data removed]",
            "text/plain": [
              "<Figure size 432x288 with 1 Axes>"
            ]
          },
          "metadata": {
            "needs_background": "light"
          }
        }
      ]
    },
    {
      "cell_type": "markdown",
      "metadata": {
        "id": "rJaPgoM1qaAB"
      },
      "source": [
        "In order to visualise the difference between the matvec performance of CSR and Ellpack-R, we have plotted an image of the time taken for their operations, as shown in Figure 2.\n",
        "\n",
        "Looking at Figure 2, we can see that the time difference between the two is very large. Specifically, the CSR matvec is about 1e3 times faster than the matvec based on the Ellpack-R format, and this difference increases further as the dimensionality of the matrix grows."
      ]
    },
    {
      "cell_type": "markdown",
      "metadata": {
        "id": "E3Qd-ht1oQLR"
      },
      "source": [
        "## 4. Conclusion\n",
        "\n",
        "In this solution, we explored the performance of the GPU-based Ellpack-R format for sparse matrix multiplication, and created a new class of Ellpack-R-based EllpackMatrix for implementing matrix vector multiplication, and benchmarked it against other matrices using random sparse matrices, discrete Poisson matrices and others. The comparison results prove the correctness of the solution.\n",
        "\n",
        "According to the validation results, the CPU-based CSR format for SpMV computation has superior computational performance compared to the CUDA-based Ellpack-R format. When the matrix size is 2500, the SpMV operation in CSR format is about a thousand times faster. This is probably due to the fact that SpMV in CSR format has been developed and optimised over many years and has a much better performance.\n",
        "\n",
        "Due to time constraints, the performance comparison between the CUDA-based CSR format and the Ellpack-R format is not discussed in this solution, and no further optimisation of SpMV was performed using shared memory. Therefore, designing better storage formats to improve the performance of large-scale sparse matrices on GPUs is one of the future directions."
      ]
    },
    {
      "cell_type": "markdown",
      "metadata": {
        "id": "i4n8WzjBoQS2"
      },
      "source": [
        "## 5. Reference\n",
        "\n",
        "[1] A. Monakov, A. Lokhmotov, and A. Avetisyan. Automatically tuning sparse matrix-vector multiplication for GPU architectures. In Proceedings of the 5th international conference on High Performance Embedded Architectures and Compilers, HiPEAC'lO, pages 111-125, Berlin, Heidelberg, 2010.\n",
        "\n",
        "[2] Li, R. and Saad, Y. (2012) GPU-Accelerated Preconditioned Iterative Linear Solvers. The Journal of Supercomputing, 63, 443-466. https://doi.org/10.1007/s11227-012-0825-3\n",
        "[3] Zheng, C., Gu, S., Gu, T.-X. and Liu, X.-P. (2014) BiEll: A Bisection ELLPACK Based Storage Format for Optimizing SpMV on GPUs. Journal of Parallel and Dis- tributed Computing, 74, 2639-2647. https://doi.org/10.1016/j.jpdc.2014.03.002\n",
        "\n",
        "[4] Langr, D. and Tvrdik, P. (2016) Evaluation Criteria for Sparse Matrix Storage For- mats. IEEE Transactions on Parallel and Distributed Systems, 27, 428-440. https://doi.org/10.1109/TPDS.2015.2401575\n",
        "[5] Liu, W.F. and Vinter, B. (2015) CSR5: An Efficient Storage Format for Cross-Platform Sparse Matrix-Vector Multiplication. ACM on International Con- ference on Supercomputing-ICS, Newport Beach, CA, 8-11 June 2015, 339-350. https://doi.org/10.1145/2751205.2751209\n",
        "\n",
        "\n",
        "[6] Isupov K ,  Babeshko I ,  Krutikov A . Implementation of Multiple Precision Sparse Matrix-vector Multiplication on CUDA using ELLPACK Format[J]. Journal of Physics: Conference Series, 2021, 1828(1):012013 (7pp).\n",
        "\n",
        "\n",
        "\n",
        "[7]Hishinuma T, Hasegawa H and Tanaka T 2017 High Performance Computing for Computational Science –\n",
        "VECPAR 2016 ed Dutra I, Camacho R, Barbosa J and Marques O (Cham: Springer) pp 21–34\n",
        "\n",
        "\n",
        "[8] Nakata M, Takao Y, Noda S and Himeno R 2012 Proc. 2012 Third International Conference on Networking\n",
        "and Computing (Okinawa, Japan) pp 68–75"
      ]
    }
  ]
}